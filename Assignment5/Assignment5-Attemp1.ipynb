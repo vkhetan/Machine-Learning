{
 "cells": [
  {
   "cell_type": "code",
   "execution_count": 1,
   "metadata": {
    "collapsed": false
   },
   "outputs": [],
   "source": [
    "import pandas as pd \n",
    "import numpy as np\n",
    "import seaborn as sns\n",
    "import matplotlib\n",
    "import matplotlib.pyplot as plt\n",
    "% matplotlib inline\n",
    "import scipy\n",
    "import scipy.io as sp\n",
    "import math"
   ]
  },
  {
   "cell_type": "code",
   "execution_count": 2,
   "metadata": {
    "collapsed": true
   },
   "outputs": [],
   "source": [
    "data = pd.read_csv(\"data_GP/AG/block1-UNWEIGHTED-SLOW-NONDOMINANT-RANDOM/20161213203046-59968-right-speed_0.500.csv\")"
   ]
  },
  {
   "cell_type": "code",
   "execution_count": 3,
   "metadata": {
    "collapsed": false
   },
   "outputs": [
    {
     "data": {
      "text/html": [
       "<div>\n",
       "<table border=\"1\" class=\"dataframe\">\n",
       "  <thead>\n",
       "    <tr style=\"text-align: right;\">\n",
       "      <th></th>\n",
       "      <th>frame</th>\n",
       "      <th>elapsed_time</th>\n",
       "      <th>target_x</th>\n",
       "      <th>target_y</th>\n",
       "      <th>target_z</th>\n",
       "      <th>finger_x</th>\n",
       "      <th>finger_y</th>\n",
       "      <th>finger_z</th>\n",
       "      <th>head_x</th>\n",
       "      <th>head_y</th>\n",
       "      <th>...</th>\n",
       "      <th>47_z</th>\n",
       "      <th>47_c</th>\n",
       "      <th>48_x</th>\n",
       "      <th>48_y</th>\n",
       "      <th>48_z</th>\n",
       "      <th>48_c</th>\n",
       "      <th>49_x</th>\n",
       "      <th>49_y</th>\n",
       "      <th>49_z</th>\n",
       "      <th>49_c</th>\n",
       "    </tr>\n",
       "  </thead>\n",
       "  <tbody>\n",
       "    <tr>\n",
       "      <th>0</th>\n",
       "      <td>0</td>\n",
       "      <td>0.021930</td>\n",
       "      <td>-0.285367</td>\n",
       "      <td>1.508715</td>\n",
       "      <td>-1.397246</td>\n",
       "      <td>-0.319367</td>\n",
       "      <td>1.507723</td>\n",
       "      <td>-1.399650</td>\n",
       "      <td>-0.607742</td>\n",
       "      <td>1.597221</td>\n",
       "      <td>...</td>\n",
       "      <td>-1.395631</td>\n",
       "      <td>3.920728</td>\n",
       "      <td>0.0</td>\n",
       "      <td>0.0</td>\n",
       "      <td>0.0</td>\n",
       "      <td>-1.0</td>\n",
       "      <td>-0.746692</td>\n",
       "      <td>0.055536</td>\n",
       "      <td>-1.430197</td>\n",
       "      <td>3.177350</td>\n",
       "    </tr>\n",
       "    <tr>\n",
       "      <th>1</th>\n",
       "      <td>1</td>\n",
       "      <td>0.033005</td>\n",
       "      <td>-0.287563</td>\n",
       "      <td>1.509291</td>\n",
       "      <td>-1.403424</td>\n",
       "      <td>-0.317828</td>\n",
       "      <td>1.507326</td>\n",
       "      <td>-1.398905</td>\n",
       "      <td>-0.611118</td>\n",
       "      <td>1.595978</td>\n",
       "      <td>...</td>\n",
       "      <td>-1.395575</td>\n",
       "      <td>4.000000</td>\n",
       "      <td>0.0</td>\n",
       "      <td>0.0</td>\n",
       "      <td>0.0</td>\n",
       "      <td>-1.0</td>\n",
       "      <td>-0.746732</td>\n",
       "      <td>0.055429</td>\n",
       "      <td>-1.430171</td>\n",
       "      <td>4.000000</td>\n",
       "    </tr>\n",
       "    <tr>\n",
       "      <th>2</th>\n",
       "      <td>2</td>\n",
       "      <td>0.043911</td>\n",
       "      <td>-0.287488</td>\n",
       "      <td>1.509131</td>\n",
       "      <td>-1.404539</td>\n",
       "      <td>-0.315750</td>\n",
       "      <td>1.506505</td>\n",
       "      <td>-1.396964</td>\n",
       "      <td>-0.610463</td>\n",
       "      <td>1.596201</td>\n",
       "      <td>...</td>\n",
       "      <td>-1.395561</td>\n",
       "      <td>3.920642</td>\n",
       "      <td>0.0</td>\n",
       "      <td>0.0</td>\n",
       "      <td>0.0</td>\n",
       "      <td>-1.0</td>\n",
       "      <td>-0.747074</td>\n",
       "      <td>0.055301</td>\n",
       "      <td>-1.430355</td>\n",
       "      <td>3.177360</td>\n",
       "    </tr>\n",
       "    <tr>\n",
       "      <th>3</th>\n",
       "      <td>3</td>\n",
       "      <td>0.054935</td>\n",
       "      <td>-0.287739</td>\n",
       "      <td>1.508501</td>\n",
       "      <td>-1.405519</td>\n",
       "      <td>-0.314217</td>\n",
       "      <td>1.506992</td>\n",
       "      <td>-1.396275</td>\n",
       "      <td>-0.611702</td>\n",
       "      <td>1.596466</td>\n",
       "      <td>...</td>\n",
       "      <td>-1.395586</td>\n",
       "      <td>3.920611</td>\n",
       "      <td>0.0</td>\n",
       "      <td>0.0</td>\n",
       "      <td>0.0</td>\n",
       "      <td>-1.0</td>\n",
       "      <td>-0.746880</td>\n",
       "      <td>0.055449</td>\n",
       "      <td>-1.430208</td>\n",
       "      <td>3.177338</td>\n",
       "    </tr>\n",
       "    <tr>\n",
       "      <th>4</th>\n",
       "      <td>4</td>\n",
       "      <td>0.066035</td>\n",
       "      <td>-0.288231</td>\n",
       "      <td>1.508622</td>\n",
       "      <td>-1.406108</td>\n",
       "      <td>-0.313114</td>\n",
       "      <td>1.506967</td>\n",
       "      <td>-1.395494</td>\n",
       "      <td>-0.614620</td>\n",
       "      <td>1.596662</td>\n",
       "      <td>...</td>\n",
       "      <td>-1.395718</td>\n",
       "      <td>4.000000</td>\n",
       "      <td>0.0</td>\n",
       "      <td>0.0</td>\n",
       "      <td>0.0</td>\n",
       "      <td>-1.0</td>\n",
       "      <td>-0.746899</td>\n",
       "      <td>0.055483</td>\n",
       "      <td>-1.430197</td>\n",
       "      <td>4.000000</td>\n",
       "    </tr>\n",
       "  </tbody>\n",
       "</table>\n",
       "<p>5 rows × 211 columns</p>\n",
       "</div>"
      ],
      "text/plain": [
       "   frame  elapsed_time  target_x  target_y  target_z  finger_x  finger_y  \\\n",
       "0      0      0.021930 -0.285367  1.508715 -1.397246 -0.319367  1.507723   \n",
       "1      1      0.033005 -0.287563  1.509291 -1.403424 -0.317828  1.507326   \n",
       "2      2      0.043911 -0.287488  1.509131 -1.404539 -0.315750  1.506505   \n",
       "3      3      0.054935 -0.287739  1.508501 -1.405519 -0.314217  1.506992   \n",
       "4      4      0.066035 -0.288231  1.508622 -1.406108 -0.313114  1.506967   \n",
       "\n",
       "   finger_z    head_x    head_y    ...         47_z      47_c  48_x  48_y  \\\n",
       "0 -1.399650 -0.607742  1.597221    ...    -1.395631  3.920728   0.0   0.0   \n",
       "1 -1.398905 -0.611118  1.595978    ...    -1.395575  4.000000   0.0   0.0   \n",
       "2 -1.396964 -0.610463  1.596201    ...    -1.395561  3.920642   0.0   0.0   \n",
       "3 -1.396275 -0.611702  1.596466    ...    -1.395586  3.920611   0.0   0.0   \n",
       "4 -1.395494 -0.614620  1.596662    ...    -1.395718  4.000000   0.0   0.0   \n",
       "\n",
       "   48_z  48_c      49_x      49_y      49_z      49_c  \n",
       "0   0.0  -1.0 -0.746692  0.055536 -1.430197  3.177350  \n",
       "1   0.0  -1.0 -0.746732  0.055429 -1.430171  4.000000  \n",
       "2   0.0  -1.0 -0.747074  0.055301 -1.430355  3.177360  \n",
       "3   0.0  -1.0 -0.746880  0.055449 -1.430208  3.177338  \n",
       "4   0.0  -1.0 -0.746899  0.055483 -1.430197  4.000000  \n",
       "\n",
       "[5 rows x 211 columns]"
      ]
     },
     "execution_count": 3,
     "metadata": {},
     "output_type": "execute_result"
    }
   ],
   "source": [
    "data.head()\n"
   ]
  },
  {
   "cell_type": "code",
   "execution_count": 4,
   "metadata": {
    "collapsed": true
   },
   "outputs": [],
   "source": [
    "train = data.copy()"
   ]
  },
  {
   "cell_type": "code",
   "execution_count": 5,
   "metadata": {
    "collapsed": true
   },
   "outputs": [],
   "source": [
    "target = train[['target_x', 'target_y', 'target_z']]"
   ]
  },
  {
   "cell_type": "code",
   "execution_count": 6,
   "metadata": {
    "collapsed": false
   },
   "outputs": [
    {
     "data": {
      "text/html": [
       "<div>\n",
       "<table border=\"1\" class=\"dataframe\">\n",
       "  <thead>\n",
       "    <tr style=\"text-align: right;\">\n",
       "      <th></th>\n",
       "      <th>target_x</th>\n",
       "      <th>target_y</th>\n",
       "      <th>target_z</th>\n",
       "    </tr>\n",
       "  </thead>\n",
       "  <tbody>\n",
       "    <tr>\n",
       "      <th>0</th>\n",
       "      <td>-0.285367</td>\n",
       "      <td>1.508715</td>\n",
       "      <td>-1.397246</td>\n",
       "    </tr>\n",
       "    <tr>\n",
       "      <th>1</th>\n",
       "      <td>-0.287563</td>\n",
       "      <td>1.509291</td>\n",
       "      <td>-1.403424</td>\n",
       "    </tr>\n",
       "    <tr>\n",
       "      <th>2</th>\n",
       "      <td>-0.287488</td>\n",
       "      <td>1.509131</td>\n",
       "      <td>-1.404539</td>\n",
       "    </tr>\n",
       "    <tr>\n",
       "      <th>3</th>\n",
       "      <td>-0.287739</td>\n",
       "      <td>1.508501</td>\n",
       "      <td>-1.405519</td>\n",
       "    </tr>\n",
       "    <tr>\n",
       "      <th>4</th>\n",
       "      <td>-0.288231</td>\n",
       "      <td>1.508622</td>\n",
       "      <td>-1.406108</td>\n",
       "    </tr>\n",
       "  </tbody>\n",
       "</table>\n",
       "</div>"
      ],
      "text/plain": [
       "   target_x  target_y  target_z\n",
       "0 -0.285367  1.508715 -1.397246\n",
       "1 -0.287563  1.509291 -1.403424\n",
       "2 -0.287488  1.509131 -1.404539\n",
       "3 -0.287739  1.508501 -1.405519\n",
       "4 -0.288231  1.508622 -1.406108"
      ]
     },
     "execution_count": 6,
     "metadata": {},
     "output_type": "execute_result"
    }
   ],
   "source": [
    "target.head()"
   ]
  },
  {
   "cell_type": "code",
   "execution_count": 7,
   "metadata": {
    "collapsed": false
   },
   "outputs": [
    {
     "data": {
      "image/png": "[encoded data removed]",
      "text/plain": [
       "<matplotlib.figure.Figure at 0x109469828>"
      ]
     },
     "metadata": {},
     "output_type": "display_data"
    }
   ],
   "source": [
    "from mpl_toolkits.mplot3d import Axes3D\n",
    "import matplotlib.pyplot as plt\n",
    "\n",
    "\n",
    "fig = plt.figure()\n",
    "ax = fig.add_subplot(111, projection='3d')\n",
    "\n",
    "\n",
    "ax.scatter(target.target_x, target.target_y, target.target_z, c='r', marker='o')\n",
    "\n",
    "ax.set_xlabel('Target_x')\n",
    "ax.set_ylabel('Target_y')\n",
    "ax.set_zlabel('Target_z')\n",
    "\n",
    "plt.show()"
   ]
  },
  {
   "cell_type": "code",
   "execution_count": 8,
   "metadata": {
    "collapsed": false
   },
   "outputs": [
    {
     "data": {
      "text/html": [
       "<div>\n",
       "<table border=\"1\" class=\"dataframe\">\n",
       "  <thead>\n",
       "    <tr style=\"text-align: right;\">\n",
       "      <th></th>\n",
       "      <th>finger_x</th>\n",
       "      <th>finger_y</th>\n",
       "      <th>finger_z</th>\n",
       "    </tr>\n",
       "  </thead>\n",
       "  <tbody>\n",
       "    <tr>\n",
       "      <th>0</th>\n",
       "      <td>-0.319367</td>\n",
       "      <td>1.507723</td>\n",
       "      <td>-1.399650</td>\n",
       "    </tr>\n",
       "    <tr>\n",
       "      <th>1</th>\n",
       "      <td>-0.317828</td>\n",
       "      <td>1.507326</td>\n",
       "      <td>-1.398905</td>\n",
       "    </tr>\n",
       "    <tr>\n",
       "      <th>2</th>\n",
       "      <td>-0.315750</td>\n",
       "      <td>1.506505</td>\n",
       "      <td>-1.396964</td>\n",
       "    </tr>\n",
       "    <tr>\n",
       "      <th>3</th>\n",
       "      <td>-0.314217</td>\n",
       "      <td>1.506992</td>\n",
       "      <td>-1.396275</td>\n",
       "    </tr>\n",
       "    <tr>\n",
       "      <th>4</th>\n",
       "      <td>-0.313114</td>\n",
       "      <td>1.506967</td>\n",
       "      <td>-1.395494</td>\n",
       "    </tr>\n",
       "  </tbody>\n",
       "</table>\n",
       "</div>"
      ],
      "text/plain": [
       "   finger_x  finger_y  finger_z\n",
       "0 -0.319367  1.507723 -1.399650\n",
       "1 -0.317828  1.507326 -1.398905\n",
       "2 -0.315750  1.506505 -1.396964\n",
       "3 -0.314217  1.506992 -1.396275\n",
       "4 -0.313114  1.506967 -1.395494"
      ]
     },
     "execution_count": 8,
     "metadata": {},
     "output_type": "execute_result"
    }
   ],
   "source": [
    "finger = train[['finger_x', 'finger_y', 'finger_z']]\n",
    "finger.head()"
   ]
  },
  {
   "cell_type": "code",
   "execution_count": 9,
   "metadata": {
    "collapsed": false
   },
   "outputs": [
    {
     "data": {
      "image/png": "[encoded data removed]",
      "text/plain": [
       "<matplotlib.figure.Figure at 0x1098e3438>"
      ]
     },
     "metadata": {},
     "output_type": "display_data"
    }
   ],
   "source": [
    "from mpl_toolkits.mplot3d import Axes3D\n",
    "import matplotlib.pyplot as plt\n",
    "\n",
    "\n",
    "fig = plt.figure()\n",
    "ax = fig.add_subplot(111, projection='3d')\n",
    "\n",
    "\n",
    "ax.scatter(finger.finger_x, finger.finger_y, finger.finger_z, c='r', marker='o')\n",
    "\n",
    "ax.set_xlabel('Finger_x')\n",
    "ax.set_ylabel('Finger_Y')\n",
    "ax.set_zlabel('Finger_z')\n",
    "\n",
    "plt.show()"
   ]
  },
  {
   "cell_type": "code",
   "execution_count": 10,
   "metadata": {
    "collapsed": false
   },
   "outputs": [
    {
     "data": {
      "image/png": "[encoded data removed]",
      "text/plain": [
       "<matplotlib.figure.Figure at 0x109d10ba8>"
      ]
     },
     "metadata": {},
     "output_type": "display_data"
    }
   ],
   "source": [
    "head = train[['head_x', 'head_y', 'head_z']]\n",
    "head.head()\n",
    "\n",
    "fig = plt.figure()\n",
    "ax = fig.add_subplot(111, projection='3d')\n",
    "\n",
    "\n",
    "ax.scatter(head.head_x, head.head_y, head.head_z, c='r', marker='o')\n",
    "\n",
    "ax.set_xlabel('Head_X')\n",
    "ax.set_ylabel('Head_Y')\n",
    "ax.set_zlabel('Head_Z')\n",
    "\n",
    "plt.show()"
   ]
  },
  {
   "cell_type": "code",
   "execution_count": 11,
   "metadata": {
    "collapsed": false
   },
   "outputs": [
    {
     "data": {
      "text/plain": [
       "(1030, 211)"
      ]
     },
     "execution_count": 11,
     "metadata": {},
     "output_type": "execute_result"
    }
   ],
   "source": [
    "data.shape"
   ]
  },
  {
   "cell_type": "code",
   "execution_count": 12,
   "metadata": {
    "collapsed": false
   },
   "outputs": [
    {
     "data": {
      "text/html": [
       "<div>\n",
       "<table border=\"1\" class=\"dataframe\">\n",
       "  <thead>\n",
       "    <tr style=\"text-align: right;\">\n",
       "      <th></th>\n",
       "      <th>frame</th>\n",
       "      <th>elapsed_time</th>\n",
       "      <th>target_x</th>\n",
       "      <th>target_y</th>\n",
       "      <th>target_z</th>\n",
       "      <th>finger_x</th>\n",
       "      <th>finger_y</th>\n",
       "      <th>finger_z</th>\n",
       "      <th>head_x</th>\n",
       "      <th>head_y</th>\n",
       "      <th>...</th>\n",
       "      <th>47_z</th>\n",
       "      <th>47_c</th>\n",
       "      <th>48_x</th>\n",
       "      <th>48_y</th>\n",
       "      <th>48_z</th>\n",
       "      <th>48_c</th>\n",
       "      <th>49_x</th>\n",
       "      <th>49_y</th>\n",
       "      <th>49_z</th>\n",
       "      <th>49_c</th>\n",
       "    </tr>\n",
       "  </thead>\n",
       "  <tbody>\n",
       "    <tr>\n",
       "      <th>0</th>\n",
       "      <td>0</td>\n",
       "      <td>0.021930</td>\n",
       "      <td>-0.285367</td>\n",
       "      <td>1.508715</td>\n",
       "      <td>-1.397246</td>\n",
       "      <td>-0.319367</td>\n",
       "      <td>1.507723</td>\n",
       "      <td>-1.399650</td>\n",
       "      <td>-0.607742</td>\n",
       "      <td>1.597221</td>\n",
       "      <td>...</td>\n",
       "      <td>-1.395631</td>\n",
       "      <td>3.920728</td>\n",
       "      <td>0.0</td>\n",
       "      <td>0.0</td>\n",
       "      <td>0.0</td>\n",
       "      <td>-1.0</td>\n",
       "      <td>-0.746692</td>\n",
       "      <td>0.055536</td>\n",
       "      <td>-1.430197</td>\n",
       "      <td>3.177350</td>\n",
       "    </tr>\n",
       "    <tr>\n",
       "      <th>1</th>\n",
       "      <td>1</td>\n",
       "      <td>0.033005</td>\n",
       "      <td>-0.287563</td>\n",
       "      <td>1.509291</td>\n",
       "      <td>-1.403424</td>\n",
       "      <td>-0.317828</td>\n",
       "      <td>1.507326</td>\n",
       "      <td>-1.398905</td>\n",
       "      <td>-0.611118</td>\n",
       "      <td>1.595978</td>\n",
       "      <td>...</td>\n",
       "      <td>-1.395575</td>\n",
       "      <td>4.000000</td>\n",
       "      <td>0.0</td>\n",
       "      <td>0.0</td>\n",
       "      <td>0.0</td>\n",
       "      <td>-1.0</td>\n",
       "      <td>-0.746732</td>\n",
       "      <td>0.055429</td>\n",
       "      <td>-1.430171</td>\n",
       "      <td>4.000000</td>\n",
       "    </tr>\n",
       "    <tr>\n",
       "      <th>2</th>\n",
       "      <td>2</td>\n",
       "      <td>0.043911</td>\n",
       "      <td>-0.287488</td>\n",
       "      <td>1.509131</td>\n",
       "      <td>-1.404539</td>\n",
       "      <td>-0.315750</td>\n",
       "      <td>1.506505</td>\n",
       "      <td>-1.396964</td>\n",
       "      <td>-0.610463</td>\n",
       "      <td>1.596201</td>\n",
       "      <td>...</td>\n",
       "      <td>-1.395561</td>\n",
       "      <td>3.920642</td>\n",
       "      <td>0.0</td>\n",
       "      <td>0.0</td>\n",
       "      <td>0.0</td>\n",
       "      <td>-1.0</td>\n",
       "      <td>-0.747074</td>\n",
       "      <td>0.055301</td>\n",
       "      <td>-1.430355</td>\n",
       "      <td>3.177360</td>\n",
       "    </tr>\n",
       "    <tr>\n",
       "      <th>3</th>\n",
       "      <td>3</td>\n",
       "      <td>0.054935</td>\n",
       "      <td>-0.287739</td>\n",
       "      <td>1.508501</td>\n",
       "      <td>-1.405519</td>\n",
       "      <td>-0.314217</td>\n",
       "      <td>1.506992</td>\n",
       "      <td>-1.396275</td>\n",
       "      <td>-0.611702</td>\n",
       "      <td>1.596466</td>\n",
       "      <td>...</td>\n",
       "      <td>-1.395586</td>\n",
       "      <td>3.920611</td>\n",
       "      <td>0.0</td>\n",
       "      <td>0.0</td>\n",
       "      <td>0.0</td>\n",
       "      <td>-1.0</td>\n",
       "      <td>-0.746880</td>\n",
       "      <td>0.055449</td>\n",
       "      <td>-1.430208</td>\n",
       "      <td>3.177338</td>\n",
       "    </tr>\n",
       "    <tr>\n",
       "      <th>4</th>\n",
       "      <td>4</td>\n",
       "      <td>0.066035</td>\n",
       "      <td>-0.288231</td>\n",
       "      <td>1.508622</td>\n",
       "      <td>-1.406108</td>\n",
       "      <td>-0.313114</td>\n",
       "      <td>1.506967</td>\n",
       "      <td>-1.395494</td>\n",
       "      <td>-0.614620</td>\n",
       "      <td>1.596662</td>\n",
       "      <td>...</td>\n",
       "      <td>-1.395718</td>\n",
       "      <td>4.000000</td>\n",
       "      <td>0.0</td>\n",
       "      <td>0.0</td>\n",
       "      <td>0.0</td>\n",
       "      <td>-1.0</td>\n",
       "      <td>-0.746899</td>\n",
       "      <td>0.055483</td>\n",
       "      <td>-1.430197</td>\n",
       "      <td>4.000000</td>\n",
       "    </tr>\n",
       "  </tbody>\n",
       "</table>\n",
       "<p>5 rows × 211 columns</p>\n",
       "</div>"
      ],
      "text/plain": [
       "   frame  elapsed_time  target_x  target_y  target_z  finger_x  finger_y  \\\n",
       "0      0      0.021930 -0.285367  1.508715 -1.397246 -0.319367  1.507723   \n",
       "1      1      0.033005 -0.287563  1.509291 -1.403424 -0.317828  1.507326   \n",
       "2      2      0.043911 -0.287488  1.509131 -1.404539 -0.315750  1.506505   \n",
       "3      3      0.054935 -0.287739  1.508501 -1.405519 -0.314217  1.506992   \n",
       "4      4      0.066035 -0.288231  1.508622 -1.406108 -0.313114  1.506967   \n",
       "\n",
       "   finger_z    head_x    head_y    ...         47_z      47_c  48_x  48_y  \\\n",
       "0 -1.399650 -0.607742  1.597221    ...    -1.395631  3.920728   0.0   0.0   \n",
       "1 -1.398905 -0.611118  1.595978    ...    -1.395575  4.000000   0.0   0.0   \n",
       "2 -1.396964 -0.610463  1.596201    ...    -1.395561  3.920642   0.0   0.0   \n",
       "3 -1.396275 -0.611702  1.596466    ...    -1.395586  3.920611   0.0   0.0   \n",
       "4 -1.395494 -0.614620  1.596662    ...    -1.395718  4.000000   0.0   0.0   \n",
       "\n",
       "   48_z  48_c      49_x      49_y      49_z      49_c  \n",
       "0   0.0  -1.0 -0.746692  0.055536 -1.430197  3.177350  \n",
       "1   0.0  -1.0 -0.746732  0.055429 -1.430171  4.000000  \n",
       "2   0.0  -1.0 -0.747074  0.055301 -1.430355  3.177360  \n",
       "3   0.0  -1.0 -0.746880  0.055449 -1.430208  3.177338  \n",
       "4   0.0  -1.0 -0.746899  0.055483 -1.430197  4.000000  \n",
       "\n",
       "[5 rows x 211 columns]"
      ]
     },
     "execution_count": 12,
     "metadata": {},
     "output_type": "execute_result"
    }
   ],
   "source": [
    "data.head()"
   ]
  },
  {
   "cell_type": "code",
   "execution_count": 13,
   "metadata": {
    "collapsed": false
   },
   "outputs": [
    {
     "data": {
      "text/html": [
       "<div>\n",
       "<table border=\"1\" class=\"dataframe\">\n",
       "  <thead>\n",
       "    <tr style=\"text-align: right;\">\n",
       "      <th></th>\n",
       "      <th>frame</th>\n",
       "      <th>elapsed_time</th>\n",
       "      <th>target_x</th>\n",
       "      <th>target_y</th>\n",
       "      <th>target_z</th>\n",
       "      <th>finger_x</th>\n",
       "      <th>finger_y</th>\n",
       "      <th>finger_z</th>\n",
       "      <th>head_x</th>\n",
       "      <th>head_y</th>\n",
       "      <th>head_z</th>\n",
       "    </tr>\n",
       "  </thead>\n",
       "  <tbody>\n",
       "    <tr>\n",
       "      <th>0</th>\n",
       "      <td>0</td>\n",
       "      <td>0.021930</td>\n",
       "      <td>-0.285367</td>\n",
       "      <td>1.508715</td>\n",
       "      <td>-1.397246</td>\n",
       "      <td>-0.319367</td>\n",
       "      <td>1.507723</td>\n",
       "      <td>-1.399650</td>\n",
       "      <td>-0.607742</td>\n",
       "      <td>1.597221</td>\n",
       "      <td>-1.519094</td>\n",
       "    </tr>\n",
       "    <tr>\n",
       "      <th>1</th>\n",
       "      <td>1</td>\n",
       "      <td>0.033005</td>\n",
       "      <td>-0.287563</td>\n",
       "      <td>1.509291</td>\n",
       "      <td>-1.403424</td>\n",
       "      <td>-0.317828</td>\n",
       "      <td>1.507326</td>\n",
       "      <td>-1.398905</td>\n",
       "      <td>-0.611118</td>\n",
       "      <td>1.595978</td>\n",
       "      <td>-1.518883</td>\n",
       "    </tr>\n",
       "  </tbody>\n",
       "</table>\n",
       "</div>"
      ],
      "text/plain": [
       "   frame  elapsed_time  target_x  target_y  target_z  finger_x  finger_y  \\\n",
       "0      0      0.021930 -0.285367  1.508715 -1.397246 -0.319367  1.507723   \n",
       "1      1      0.033005 -0.287563  1.509291 -1.403424 -0.317828  1.507326   \n",
       "\n",
       "   finger_z    head_x    head_y    head_z  \n",
       "0 -1.399650 -0.607742  1.597221 -1.519094  \n",
       "1 -1.398905 -0.611118  1.595978 -1.518883  "
      ]
     },
     "execution_count": 13,
     "metadata": {},
     "output_type": "execute_result"
    }
   ],
   "source": [
    "a =  list(range(0,11,1))\n",
    "data.ix[:, a].head(2)"
   ]
  },
  {
   "cell_type": "code",
   "execution_count": 14,
   "metadata": {
    "collapsed": true
   },
   "outputs": [],
   "source": [
    "slicex = list(range(11, 211, 4))\n",
    "slicey = list(range(12, 211, 4))\n",
    "slicez = list(range(13, 211, 4))\n",
    "\n",
    "slicex_data = data.ix[:, slicex][:10]\n",
    "slicey_data = data.ix[:, slicey][:10]\n",
    "slicez_data = data.ix[:, slicez][:10]\n",
    "\n"
   ]
  },
  {
   "cell_type": "code",
   "execution_count": 15,
   "metadata": {
    "collapsed": false
   },
   "outputs": [
    {
     "data": {
      "image/png": "[encoded data removed]",
      "text/plain": [
       "<matplotlib.figure.Figure at 0x10a501780>"
      ]
     },
     "metadata": {},
     "output_type": "display_data"
    }
   ],
   "source": [
    "fig = plt.figure()\n",
    "# ax1 = fig.add_subplot(311)\n",
    "# ax2 = fig.add_subplot(312)\n",
    "# ax3 = fig.add_subplot(313)\n",
    "\n",
    "ax1 = plt.subplot2grid((1, 3), (0, 0))\n",
    "ax2 = plt.subplot2grid((1, 3), (0, 1))\n",
    "ax3 = plt.subplot2grid((1, 3), (0, 2))\n",
    "\n",
    "\n",
    "sns.heatmap(slicex_data.T, ax = ax1, cmap = \"jet\", cbar = False, yticklabels = False);\n",
    "\n",
    "\n",
    "sns.heatmap(slicey_data.T, ax = ax2, cmap = \"jet\", cbar = False, yticklabels = False);\n",
    "\n",
    "\n",
    "sns.heatmap(slicez_data.T, ax = ax3, cmap = \"jet\", cbar = True, yticklabels = False);"
   ]
  },
  {
   "cell_type": "code",
   "execution_count": 16,
   "metadata": {
    "collapsed": true
   },
   "outputs": [],
   "source": [
    "import sklearn\n",
    "from sklearn import preprocessing\n",
    "slicex_scaled = preprocessing.scale(slicex_data)\n",
    "slicey_scaled = preprocessing.scale(slicey_data)\n",
    "slicez_scaled = preprocessing.scale(slicez_data)\n"
   ]
  },
  {
   "cell_type": "code",
   "execution_count": 17,
   "metadata": {
    "collapsed": false
   },
   "outputs": [
    {
     "data": {
      "image/png": "[encoded data removed]",
      "text/plain": [
       "<matplotlib.figure.Figure at 0x10b43eba8>"
      ]
     },
     "metadata": {},
     "output_type": "display_data"
    }
   ],
   "source": [
    "fig = plt.figure()\n",
    "# ax1 = fig.add_subplot(311)\n",
    "# ax2 = fig.add_subplot(312)\n",
    "# ax3 = fig.add_subplot(313)\n",
    "\n",
    "ax1 = plt.subplot2grid((1, 3), (0, 0))\n",
    "ax2 = plt.subplot2grid((1, 3), (0, 1))\n",
    "ax3 = plt.subplot2grid((1, 3), (0, 2))\n",
    "\n",
    "\n",
    "sns.heatmap(slicex_scaled.T, ax = ax1, cmap = \"jet\", cbar = False, yticklabels = False);\n",
    "\n",
    "\n",
    "sns.heatmap(slicey_scaled.T, ax = ax2, cmap = \"jet\", cbar = False, yticklabels = False);\n",
    "\n",
    "\n",
    "sns.heatmap(slicez_scaled.T, ax = ax3, cmap = \"jet\", cbar = True, yticklabels = False);"
   ]
  },
  {
   "cell_type": "code",
   "execution_count": null,
   "metadata": {
    "collapsed": true
   },
   "outputs": [],
   "source": []
  },
  {
   "cell_type": "code",
   "execution_count": null,
   "metadata": {
    "collapsed": true
   },
   "outputs": [],
   "source": []
  },
  {
   "cell_type": "code",
   "execution_count": null,
   "metadata": {
    "collapsed": true
   },
   "outputs": [],
   "source": []
  },
  {
   "cell_type": "code",
   "execution_count": null,
   "metadata": {
    "collapsed": true
   },
   "outputs": [],
   "source": []
  },
  {
   "cell_type": "code",
   "execution_count": null,
   "metadata": {
    "collapsed": true
   },
   "outputs": [],
   "source": []
  },
  {
   "cell_type": "code",
   "execution_count": null,
   "metadata": {
    "collapsed": true
   },
   "outputs": [],
   "source": []
  },
  {
   "cell_type": "code",
   "execution_count": 18,
   "metadata": {
    "collapsed": false
   },
   "outputs": [],
   "source": [
    "#results = scipy.optimize.fmin_cg(logPosterior, theta, fprime = graLogPosterior,args = [(X,y)], gtol = 1e-4, maxiter =5, disp=1)\n"
   ]
  },
  {
   "cell_type": "code",
   "execution_count": 19,
   "metadata": {
    "collapsed": false
   },
   "outputs": [
    {
     "name": "stdout",
     "output_type": "stream",
     "text": [
      "\u001b[31m20161213203046-59968-right-speed_0.500.csv\u001b[m\u001b[m*\r\n"
     ]
    }
   ],
   "source": [
    "%ls data_GP/AG/block1-UNWEIGHTED-SLOW-NONDOMINANT-RANDOM/\n"
   ]
  },
  {
   "cell_type": "code",
   "execution_count": 20,
   "metadata": {
    "collapsed": false
   },
   "outputs": [],
   "source": [
    "data1 = pd.read_csv(\"data_GP/AG/block1-UNWEIGHTED-SLOW-NONDOMINANT-RANDOM/20161213203046-59968-right-speed_0.500.csv\")\n",
    "data2 = pd.read_csv(\"data_GP/AG/block2-UNWEIGHTED-SLOW-NONDOMINANT-RANDOM/20161213204004-59968-right-speed_0.500.csv\")\n"
   ]
  },
  {
   "cell_type": "code",
   "execution_count": null,
   "metadata": {
    "collapsed": true
   },
   "outputs": [],
   "source": []
  },
  {
   "cell_type": "code",
   "execution_count": 21,
   "metadata": {
    "collapsed": true
   },
   "outputs": [],
   "source": [
    "#data1 = normalize(data1)"
   ]
  },
  {
   "cell_type": "code",
   "execution_count": 22,
   "metadata": {
    "collapsed": false
   },
   "outputs": [
    {
     "data": {
      "text/html": [
       "<div>\n",
       "<table border=\"1\" class=\"dataframe\">\n",
       "  <thead>\n",
       "    <tr style=\"text-align: right;\">\n",
       "      <th></th>\n",
       "      <th>frame</th>\n",
       "      <th>elapsed_time</th>\n",
       "      <th>target_x</th>\n",
       "      <th>target_y</th>\n",
       "      <th>target_z</th>\n",
       "      <th>finger_x</th>\n",
       "      <th>finger_y</th>\n",
       "      <th>finger_z</th>\n",
       "      <th>head_x</th>\n",
       "      <th>head_y</th>\n",
       "      <th>...</th>\n",
       "      <th>47_z</th>\n",
       "      <th>47_c</th>\n",
       "      <th>48_x</th>\n",
       "      <th>48_y</th>\n",
       "      <th>48_z</th>\n",
       "      <th>48_c</th>\n",
       "      <th>49_x</th>\n",
       "      <th>49_y</th>\n",
       "      <th>49_z</th>\n",
       "      <th>49_c</th>\n",
       "    </tr>\n",
       "  </thead>\n",
       "  <tbody>\n",
       "    <tr>\n",
       "      <th>0</th>\n",
       "      <td>0</td>\n",
       "      <td>0.021930</td>\n",
       "      <td>-0.285367</td>\n",
       "      <td>1.508715</td>\n",
       "      <td>-1.397246</td>\n",
       "      <td>-0.319367</td>\n",
       "      <td>1.507723</td>\n",
       "      <td>-1.399650</td>\n",
       "      <td>-0.607742</td>\n",
       "      <td>1.597221</td>\n",
       "      <td>...</td>\n",
       "      <td>-1.395631</td>\n",
       "      <td>3.920728</td>\n",
       "      <td>0.0</td>\n",
       "      <td>0.0</td>\n",
       "      <td>0.0</td>\n",
       "      <td>-1.0</td>\n",
       "      <td>-0.746692</td>\n",
       "      <td>0.055536</td>\n",
       "      <td>-1.430197</td>\n",
       "      <td>3.17735</td>\n",
       "    </tr>\n",
       "    <tr>\n",
       "      <th>1</th>\n",
       "      <td>1</td>\n",
       "      <td>0.033005</td>\n",
       "      <td>-0.287563</td>\n",
       "      <td>1.509291</td>\n",
       "      <td>-1.403424</td>\n",
       "      <td>-0.317828</td>\n",
       "      <td>1.507326</td>\n",
       "      <td>-1.398905</td>\n",
       "      <td>-0.611118</td>\n",
       "      <td>1.595978</td>\n",
       "      <td>...</td>\n",
       "      <td>-1.395575</td>\n",
       "      <td>4.000000</td>\n",
       "      <td>0.0</td>\n",
       "      <td>0.0</td>\n",
       "      <td>0.0</td>\n",
       "      <td>-1.0</td>\n",
       "      <td>-0.746732</td>\n",
       "      <td>0.055429</td>\n",
       "      <td>-1.430171</td>\n",
       "      <td>4.00000</td>\n",
       "    </tr>\n",
       "    <tr>\n",
       "      <th>2</th>\n",
       "      <td>2</td>\n",
       "      <td>0.043911</td>\n",
       "      <td>-0.287488</td>\n",
       "      <td>1.509131</td>\n",
       "      <td>-1.404539</td>\n",
       "      <td>-0.315750</td>\n",
       "      <td>1.506505</td>\n",
       "      <td>-1.396964</td>\n",
       "      <td>-0.610463</td>\n",
       "      <td>1.596201</td>\n",
       "      <td>...</td>\n",
       "      <td>-1.395561</td>\n",
       "      <td>3.920642</td>\n",
       "      <td>0.0</td>\n",
       "      <td>0.0</td>\n",
       "      <td>0.0</td>\n",
       "      <td>-1.0</td>\n",
       "      <td>-0.747074</td>\n",
       "      <td>0.055301</td>\n",
       "      <td>-1.430355</td>\n",
       "      <td>3.17736</td>\n",
       "    </tr>\n",
       "  </tbody>\n",
       "</table>\n",
       "<p>3 rows × 211 columns</p>\n",
       "</div>"
      ],
      "text/plain": [
       "   frame  elapsed_time  target_x  target_y  target_z  finger_x  finger_y  \\\n",
       "0      0      0.021930 -0.285367  1.508715 -1.397246 -0.319367  1.507723   \n",
       "1      1      0.033005 -0.287563  1.509291 -1.403424 -0.317828  1.507326   \n",
       "2      2      0.043911 -0.287488  1.509131 -1.404539 -0.315750  1.506505   \n",
       "\n",
       "   finger_z    head_x    head_y   ...         47_z      47_c  48_x  48_y  \\\n",
       "0 -1.399650 -0.607742  1.597221   ...    -1.395631  3.920728   0.0   0.0   \n",
       "1 -1.398905 -0.611118  1.595978   ...    -1.395575  4.000000   0.0   0.0   \n",
       "2 -1.396964 -0.610463  1.596201   ...    -1.395561  3.920642   0.0   0.0   \n",
       "\n",
       "   48_z  48_c      49_x      49_y      49_z     49_c  \n",
       "0   0.0  -1.0 -0.746692  0.055536 -1.430197  3.17735  \n",
       "1   0.0  -1.0 -0.746732  0.055429 -1.430171  4.00000  \n",
       "2   0.0  -1.0 -0.747074  0.055301 -1.430355  3.17736  \n",
       "\n",
       "[3 rows x 211 columns]"
      ]
     },
     "execution_count": 22,
     "metadata": {},
     "output_type": "execute_result"
    }
   ],
   "source": [
    "data1.head(3)\n"
   ]
  },
  {
   "cell_type": "code",
   "execution_count": 23,
   "metadata": {
    "collapsed": false
   },
   "outputs": [
    {
     "data": {
      "text/html": [
       "<div>\n",
       "<table border=\"1\" class=\"dataframe\">\n",
       "  <thead>\n",
       "    <tr style=\"text-align: right;\">\n",
       "      <th></th>\n",
       "      <th>frame</th>\n",
       "      <th>elapsed_time</th>\n",
       "      <th>target_x</th>\n",
       "      <th>target_y</th>\n",
       "      <th>target_z</th>\n",
       "      <th>finger_x</th>\n",
       "      <th>finger_y</th>\n",
       "      <th>finger_z</th>\n",
       "      <th>head_x</th>\n",
       "      <th>head_y</th>\n",
       "      <th>...</th>\n",
       "      <th>47_z</th>\n",
       "      <th>47_c</th>\n",
       "      <th>48_x</th>\n",
       "      <th>48_y</th>\n",
       "      <th>48_z</th>\n",
       "      <th>48_c</th>\n",
       "      <th>49_x</th>\n",
       "      <th>49_y</th>\n",
       "      <th>49_z</th>\n",
       "      <th>49_c</th>\n",
       "    </tr>\n",
       "  </thead>\n",
       "  <tbody>\n",
       "    <tr>\n",
       "      <th>0</th>\n",
       "      <td>0</td>\n",
       "      <td>0.021660</td>\n",
       "      <td>-0.285367</td>\n",
       "      <td>1.508715</td>\n",
       "      <td>-1.397246</td>\n",
       "      <td>-0.273740</td>\n",
       "      <td>1.500969</td>\n",
       "      <td>-1.371183</td>\n",
       "      <td>0.206660</td>\n",
       "      <td>1.636721</td>\n",
       "      <td>...</td>\n",
       "      <td>-0.802860</td>\n",
       "      <td>4.000000</td>\n",
       "      <td>0.0</td>\n",
       "      <td>0.0</td>\n",
       "      <td>0.0</td>\n",
       "      <td>-1.0</td>\n",
       "      <td>0.309161</td>\n",
       "      <td>0.064634</td>\n",
       "      <td>-0.841589</td>\n",
       "      <td>4.000000</td>\n",
       "    </tr>\n",
       "    <tr>\n",
       "      <th>1</th>\n",
       "      <td>1</td>\n",
       "      <td>0.032780</td>\n",
       "      <td>-0.287563</td>\n",
       "      <td>1.509291</td>\n",
       "      <td>-1.403424</td>\n",
       "      <td>-0.276582</td>\n",
       "      <td>1.502027</td>\n",
       "      <td>-1.374369</td>\n",
       "      <td>0.204551</td>\n",
       "      <td>1.637265</td>\n",
       "      <td>...</td>\n",
       "      <td>-0.802822</td>\n",
       "      <td>3.580956</td>\n",
       "      <td>0.0</td>\n",
       "      <td>0.0</td>\n",
       "      <td>0.0</td>\n",
       "      <td>-1.0</td>\n",
       "      <td>0.309194</td>\n",
       "      <td>0.064536</td>\n",
       "      <td>-0.841570</td>\n",
       "      <td>3.403685</td>\n",
       "    </tr>\n",
       "    <tr>\n",
       "      <th>2</th>\n",
       "      <td>2</td>\n",
       "      <td>0.043799</td>\n",
       "      <td>-0.287488</td>\n",
       "      <td>1.509131</td>\n",
       "      <td>-1.404539</td>\n",
       "      <td>-0.278451</td>\n",
       "      <td>1.502474</td>\n",
       "      <td>-1.376174</td>\n",
       "      <td>0.204752</td>\n",
       "      <td>1.637371</td>\n",
       "      <td>...</td>\n",
       "      <td>-0.802977</td>\n",
       "      <td>4.000000</td>\n",
       "      <td>0.0</td>\n",
       "      <td>0.0</td>\n",
       "      <td>0.0</td>\n",
       "      <td>-1.0</td>\n",
       "      <td>0.309196</td>\n",
       "      <td>0.064529</td>\n",
       "      <td>-0.841723</td>\n",
       "      <td>4.000000</td>\n",
       "    </tr>\n",
       "  </tbody>\n",
       "</table>\n",
       "<p>3 rows × 211 columns</p>\n",
       "</div>"
      ],
      "text/plain": [
       "   frame  elapsed_time  target_x  target_y  target_z  finger_x  finger_y  \\\n",
       "0      0      0.021660 -0.285367  1.508715 -1.397246 -0.273740  1.500969   \n",
       "1      1      0.032780 -0.287563  1.509291 -1.403424 -0.276582  1.502027   \n",
       "2      2      0.043799 -0.287488  1.509131 -1.404539 -0.278451  1.502474   \n",
       "\n",
       "   finger_z    head_x    head_y    ...         47_z      47_c  48_x  48_y  \\\n",
       "0 -1.371183  0.206660  1.636721    ...    -0.802860  4.000000   0.0   0.0   \n",
       "1 -1.374369  0.204551  1.637265    ...    -0.802822  3.580956   0.0   0.0   \n",
       "2 -1.376174  0.204752  1.637371    ...    -0.802977  4.000000   0.0   0.0   \n",
       "\n",
       "   48_z  48_c      49_x      49_y      49_z      49_c  \n",
       "0   0.0  -1.0  0.309161  0.064634 -0.841589  4.000000  \n",
       "1   0.0  -1.0  0.309194  0.064536 -0.841570  3.403685  \n",
       "2   0.0  -1.0  0.309196  0.064529 -0.841723  4.000000  \n",
       "\n",
       "[3 rows x 211 columns]"
      ]
     },
     "execution_count": 23,
     "metadata": {},
     "output_type": "execute_result"
    }
   ],
   "source": [
    "data2.head(3)"
   ]
  },
  {
   "cell_type": "code",
   "execution_count": 24,
   "metadata": {
    "collapsed": false
   },
   "outputs": [],
   "source": [
    "x = data1.loc[:,['finger_x']]\n",
    "y = data1.loc[:,['target_x']]\n",
    "xstar = data2.loc[:,['finger_x']]\n",
    "ystar = data2.loc[:,['target_x']]\n",
    "\n",
    "n = 120"
   ]
  },
  {
   "cell_type": "code",
   "execution_count": 25,
   "metadata": {
    "collapsed": true
   },
   "outputs": [],
   "source": [
    "x = x[:n]\n",
    "y = y[:n]\n",
    "xstar = xstar[:n]\n",
    "ystar = ystar[:n]"
   ]
  },
  {
   "cell_type": "code",
   "execution_count": 26,
   "metadata": {
    "collapsed": true
   },
   "outputs": [],
   "source": [
    "# def normalize(data):\n",
    "#     data = (data - np.min(data))/(np.max(data) - np.min(data))\n",
    "#     return data"
   ]
  },
  {
   "cell_type": "code",
   "execution_count": 27,
   "metadata": {
    "collapsed": false
   },
   "outputs": [],
   "source": [
    "# x = normalize(x)\n",
    "# y = normalize(y)\n",
    "# xstar = normalize(xstar)\n",
    "# ystar = normalize(ystar)"
   ]
  },
  {
   "cell_type": "code",
   "execution_count": 28,
   "metadata": {
    "collapsed": false
   },
   "outputs": [
    {
     "data": {
      "text/plain": [
       "0.10000000000000001"
      ]
     },
     "execution_count": 28,
     "metadata": {},
     "output_type": "execute_result"
    }
   ],
   "source": [
    "theta = np.array([0.1, 0.1, 0.1 ]) # [var_f, length, var_n]\n",
    "theta[0]"
   ]
  },
  {
   "cell_type": "code",
   "execution_count": 29,
   "metadata": {
    "collapsed": false
   },
   "outputs": [],
   "source": [
    "def kernel(x1, x2, theta, noise = 0):\n",
    "    theta = np.squeeze(theta)\n",
    "    var_f = theta[0]\n",
    "    length = theta[1]\n",
    "    var_n = theta[2]\n",
    "    sh = x1.shape[0]\n",
    "    x1 = x1.T\n",
    "    x2 = x2.T\n",
    "    x1 = np.tile(x1, (x1.shape[0], 1))\n",
    "    x2 = np.tile(x2, (x2.shape[0],1)).T\n",
    "#     print(x1.shape)\n",
    "#     print(x2.shape)\n",
    "    \n",
    "#     k = (math.exp(var_f))*np.exp(-0.5*(np.exp(length))*((x-xstar)**2)) + noise*(math.exp(var_n))* (np.eye(x.shape[0]))\n",
    "    k = np.exp(var_f)*np.exp(-0.5*np.exp(length)*((x1-x2)**2))\n",
    "#     print(k.shape)\n",
    "    n = noise*(np.exp(var_n))* np.eye(sh)\n",
    "#     print(n.shape)\n",
    "    K = np.add(k,n)\n",
    "    return K\n",
    "    \n",
    "    "
   ]
  },
  {
   "cell_type": "code",
   "execution_count": null,
   "metadata": {
    "collapsed": false
   },
   "outputs": [],
   "source": [
    "   "
   ]
  },
  {
   "cell_type": "code",
   "execution_count": 30,
   "metadata": {
    "collapsed": false
   },
   "outputs": [],
   "source": [
    "K = kernel(x, x, theta, noise = 1) # x1 = x[:60], x2 = x[:60]\n",
    "Kstar= kernel(x, xstar, theta, noise = 0) # x1 = x[:60], x2 = x[:60]\n",
    "Kstars= kernel(xstar, xstar, theta, noise = 0) # x1 = x[:60], x2 = x[:60]\n"
   ]
  },
  {
   "cell_type": "code",
   "execution_count": 31,
   "metadata": {
    "collapsed": false
   },
   "outputs": [],
   "source": [
    "#print(K)"
   ]
  },
  {
   "cell_type": "raw",
   "metadata": {},
   "source": []
  },
  {
   "cell_type": "code",
   "execution_count": 32,
   "metadata": {
    "collapsed": false
   },
   "outputs": [],
   "source": [
    "L = np.linalg.cholesky(K)"
   ]
  },
  {
   "cell_type": "code",
   "execution_count": 33,
   "metadata": {
    "collapsed": false
   },
   "outputs": [],
   "source": [
    "alpha = np.linalg.solve(L.transpose(), np.linalg.solve(L,y[:n]))"
   ]
  },
  {
   "cell_type": "code",
   "execution_count": 34,
   "metadata": {
    "collapsed": false
   },
   "outputs": [
    {
     "data": {
      "text/plain": [
       "(120, 1)"
      ]
     },
     "execution_count": 34,
     "metadata": {},
     "output_type": "execute_result"
    }
   ],
   "source": [
    "fbarstar = np.dot(Kstar.transpose(), alpha)\n",
    "mean = fbarstar\n",
    "mean.shape"
   ]
  },
  {
   "cell_type": "code",
   "execution_count": 35,
   "metadata": {
    "collapsed": false
   },
   "outputs": [
    {
     "data": {
      "text/plain": [
       "(120, 120)"
      ]
     },
     "execution_count": 35,
     "metadata": {},
     "output_type": "execute_result"
    }
   ],
   "source": [
    "v = np.linalg.solve(L, Kstar)\n",
    "f_var = Kstars-np.dot(v.T, v)\n",
    "f_var.shape"
   ]
  },
  {
   "cell_type": "code",
   "execution_count": 36,
   "metadata": {
    "collapsed": false
   },
   "outputs": [],
   "source": [
    "# Kstars.shape"
   ]
  },
  {
   "cell_type": "code",
   "execution_count": null,
   "metadata": {
    "collapsed": false
   },
   "outputs": [],
   "source": []
  },
  {
   "cell_type": "code",
   "execution_count": null,
   "metadata": {
    "collapsed": true
   },
   "outputs": [],
   "source": []
  },
  {
   "cell_type": "code",
   "execution_count": 37,
   "metadata": {
    "collapsed": true
   },
   "outputs": [],
   "source": [
    "def logPost(theta, *args):\n",
    "    global theta2\n",
    "    '''\n",
    "    Input: x, y, theta, K\n",
    "    output: -logProb, f_mean, f_var\n",
    "    '''\n",
    "#     (x, y) =  args\n",
    "#     var_f = theta[0]\n",
    "#     length = theta[1]\n",
    "#     var_n = theta[2]\n",
    "#     sh = x.shape[0]\n",
    "# #     K = kernel(x[:n], x[:n], theta, noise = 1)\n",
    "#     q = np.exp(theta[0])\n",
    "#     p = np.exp(-0.5*np.exp(length)*((x1-x2)**2))\n",
    "#     k = np.dot(p,q)\n",
    "#     n = (np.exp(var_n))* np.eye(sh)\n",
    "  \n",
    "#     Q = k+n\n",
    "    theta = np.squeeze(theta)\n",
    "\n",
    "    #print(\"start\")\n",
    "    #print(theta.shape)\n",
    "    (x,y) = args\n",
    "    y = y.as_matrix()\n",
    "    var_f = theta[0]\n",
    "    length = theta[1]\n",
    "    var_n = theta[2]\n",
    "    print(\"theta\", theta)\n",
    "    theta2 = theta.copy()\n",
    "    sh = x.shape[0]\n",
    "    x1 = x.T\n",
    "    x2 = x.T\n",
    "    #print(\"1\")\n",
    "    x1 = np.tile(x1, (x1.shape[0], 1))\n",
    "    x2 = np.tile(x2, (x2.shape[0],1)).T\n",
    "    q = np.exp(var_f)\n",
    "    p = np.exp(-0.5*np.exp(length)*((x1-x2)**2))\n",
    "    k = np.dot(p,q)\n",
    "    n = (np.exp(var_n))* np.eye(sh)\n",
    "    #print(\"2\")\n",
    "    \n",
    "    Q = k+n\n",
    "    #print(\"2.1\")\n",
    "    L = np.linalg.cholesky(Q)\n",
    "    #print(\"2.2\")\n",
    "    #print(type(y))\n",
    "    #print(theta.shape)\n",
    "    alpha = np.linalg.solve(L.transpose(), np.linalg.solve(L,y))\n",
    "    #print(np.shape(x))\n",
    "    #print(\"3\")\n",
    "    logP = -0.5*np.dot(y.transpose(), alpha) - np.sum(np.log(np.diag(L))) - sh/2 * np.log(2.*np.pi)\n",
    "    #f_mean = np.dot(Kstar.transpose(), alpha)\n",
    "    #v = np.linalg.solve(L, Kstar)\n",
    "    #f_var = Kstars-np.dot(v.T, v)\n",
    "    return -logP\n"
   ]
  },
  {
   "cell_type": "code",
   "execution_count": 38,
   "metadata": {
    "collapsed": true
   },
   "outputs": [],
   "source": [
    "def kernel(x1, x2, theta, noise = 0):\n",
    "    theta = np.squeeze(theta)\n",
    "\n",
    "    var_f = theta[0]\n",
    "    length = theta[1]\n",
    "    var_n = theta[2]\n",
    "    sh = x1.shape[0]\n",
    "    x1 = x1.T\n",
    "    x2 = x2.T\n",
    "    x1 = np.tile(x1, (x1.shape[0], 1))\n",
    "    x2 = np.tile(x2, (x2.shape[0],1)).T\n",
    "#     print(x1.shape)\n",
    "#     print(x2.shape)\n",
    "    \n",
    "#     k = (math.exp(var_f))*np.exp(-0.5*(np.exp(length))*((x-xstar)**2)) + noise*(math.exp(var_n))* (np.eye(x.shape[0]))\n",
    "    k = np.exp(var_f)*np.exp(-0.5*np.exp(length)*((x1-x2)**2))\n",
    "#     print(k.shape)\n",
    "    n = noise*(np.exp(var_n))* np.eye(sh)\n",
    "#     print(n.shape)\n",
    "    K = np.add(k,n)\n",
    "    return K"
   ]
  },
  {
   "cell_type": "code",
   "execution_count": 39,
   "metadata": {
    "collapsed": false
   },
   "outputs": [],
   "source": [
    "def glogPost(theta, *args):\n",
    "    \n",
    "    theta = np.squeeze(theta)\n",
    "\n",
    "    (x,y) = args\n",
    "    var_f = theta[0]\n",
    "    length = theta[1]\n",
    "    var_n = theta[2]\n",
    "    sh = x.shape[0]\n",
    "    x1 = x.T\n",
    "    x2 = x.T\n",
    "    x1 = np.tile(x1, (x1.shape[0], 1))\n",
    "    x2 = np.tile(x2, (x2.shape[0],1)).T\n",
    "    q = np.exp(var_f)\n",
    "    p = np.exp(-0.5*np.exp(length)*((x1-x2)**2))\n",
    "    k = np.dot(p,q)\n",
    "    n = (np.exp(var_n))* np.eye(sh)\n",
    "    \n",
    "    \n",
    "    Q = k+n\n",
    "    Q_inv = np.linalg.inv(Q)\n",
    "\n",
    "    kF = k\n",
    "    kN = n\n",
    "    kL = np.dot(k, (-0.5*np.exp(length)*((x1-x2)**2)))\n",
    "    #print(kF, kN, kL)\n",
    "    \n",
    "    gradF = 0.5*(np.dot(y.T, np.dot(Q_inv, np.dot(kF, np.dot(Q_inv, y))))) - 0.5*(np.trace(np.dot(Q_inv, kF)))\n",
    "    gradN = 0.5*(np.dot(y.T, np.dot(Q_inv, np.dot(kN, np.dot(Q_inv, y))))) - 0.5*(np.trace(np.dot(Q_inv, kN)))\n",
    "    gradL = 0.5*(np.dot(y.T, np.dot(Q_inv, np.dot(kL, np.dot(Q_inv, y))))) - 0.5*(np.trace(np.dot(Q_inv, kL)))\n",
    "\n",
    "    \n",
    "    d = np.array([gradF[0][0], gradN[0][0], gradL[0][0]])\n",
    "#     print(d)\n",
    "    return -d\n"
   ]
  },
  {
   "cell_type": "code",
   "execution_count": 40,
   "metadata": {
    "collapsed": true
   },
   "outputs": [],
   "source": [
    "#     q = np.exp(-0.5*np.exp(length)*((x1-x2)**2))\n",
    "#     q = np.exp(np.dot(-0.5,np.dot(np.exp(length), ((x1-x2)**2))))\n",
    "#     k = np.dot(np.exp(var_f),q)\n",
    "#     n = np.dot(np.exp(var_n)), np.eye(sh)"
   ]
  },
  {
   "cell_type": "code",
   "execution_count": 41,
   "metadata": {
    "collapsed": false
   },
   "outputs": [],
   "source": [
    "# theta = np.array([0.1, 0.1, 0.1])\n",
    "# for i in range(10):\n",
    "#     logP = logPost(theta, x, y)\n",
    "#     theta = glogPost(theta, x, y)\n",
    "    \n",
    "# print(logP)\n",
    "# print(theta)\n"
   ]
  },
  {
   "cell_type": "code",
   "execution_count": 42,
   "metadata": {
    "collapsed": false,
    "scrolled": false
   },
   "outputs": [
    {
     "name": "stdout",
     "output_type": "stream",
     "text": [
      "theta [ 0.1  0.1  0.1]\n",
      "theta [ 0.08850534 -0.90457375  0.2039204 ]\n",
      "theta [ 0.09786551 -0.08654344  0.11929741]\n",
      "theta [ 0.09960223  0.06523689  0.10359615]\n",
      "theta [ 0.09992581  0.0935164   0.10067071]\n",
      "theta [ 0.09998616  0.09879056  0.10012511]\n",
      "theta [ 0.09999742  0.09977439  0.10002334]\n",
      "theta [ 0.09999952  0.09995791  0.10000435]\n",
      "theta [ 0.09999991  0.09999215  0.10000081]\n",
      "theta [ 0.09999998  0.09999854  0.10000015]\n",
      "theta [ 0.1         0.09999973  0.10000003]\n",
      "theta [ 0.1         0.09999995  0.10000001]\n",
      "theta [ 0.1         0.09999999  0.1       ]\n",
      "theta [ 0.1  0.1  0.1]\n",
      "theta [ 0.1  0.1  0.1]\n",
      "theta [ 0.1  0.1  0.1]\n",
      "theta [ 0.1  0.1  0.1]\n",
      "theta [ 0.1  0.1  0.1]\n",
      "theta [ 0.1  0.1  0.1]\n",
      "theta [ 0.1  0.1  0.1]\n",
      "theta [ 0.1  0.1  0.1]\n",
      "theta [ 0.1  0.1  0.1]\n",
      "theta [ 0.1  0.1  0.1]\n",
      "theta [ 0.1  0.1  0.1]\n",
      "theta [ 0.1  0.1  0.1]\n",
      "theta [ 0.1  0.1  0.1]\n",
      "theta [ 0.1  0.1  0.1]\n",
      "theta [ 0.1  0.1  0.1]\n",
      "theta [ 0.1  0.1  0.1]\n",
      "theta [ 0.1  0.1  0.1]\n",
      "theta [ 0.1  0.1  0.1]\n",
      "theta [ 0.1  0.1  0.1]\n",
      "theta [ 0.1  0.1  0.1]\n",
      "theta [ 0.1  0.1  0.1]\n",
      "theta [ 0.1  0.1  0.1]\n",
      "theta [ 0.1  0.1  0.1]\n",
      "theta [ 0.1  0.1  0.1]\n",
      "theta [ 0.1  0.1  0.1]\n",
      "theta [ 0.1  0.1  0.1]\n",
      "theta [ 0.1  0.1  0.1]\n",
      "theta [ 0.1  0.1  0.1]\n",
      "theta [ 0.1  0.1  0.1]\n",
      "theta [ 0.1  0.1  0.1]\n",
      "theta [ 0.1  0.1  0.1]\n",
      "theta [ 0.1  0.1  0.1]\n",
      "theta [ 0.1  0.1  0.1]\n",
      "theta [ 0.1  0.1  0.1]\n",
      "theta [ 0.1  0.1  0.1]\n",
      "theta [ 0.1  0.1  0.1]\n",
      "theta [ 0.1  0.1  0.1]\n",
      "theta [ 0.1  0.1  0.1]\n",
      "theta [ 0.1  0.1  0.1]\n",
      "theta [ 0.1  0.1  0.1]\n",
      "theta [ 0.1  0.1  0.1]\n",
      "theta [ 0.1  0.1  0.1]\n",
      "theta [ 0.1  0.1  0.1]\n",
      "theta [ 0.1  0.1  0.1]\n",
      "theta [ 0.1  0.1  0.1]\n",
      "theta [ 0.1  0.1  0.1]\n",
      "theta [ 0.1  0.1  0.1]\n",
      "theta [ 0.1  0.1  0.1]\n",
      "theta [ 0.1  0.1  0.1]\n",
      "theta [ 0.1  0.1  0.1]\n",
      "theta [ 0.1  0.1  0.1]\n",
      "theta [ 0.1  0.1  0.1]\n",
      "theta [ 0.1  0.1  0.1]\n",
      "theta [ 0.1  0.1  0.1]\n",
      "theta [ 0.1  0.1  0.1]\n",
      "theta [ 0.1  0.1  0.1]\n",
      "theta [ 0.1  0.1  0.1]\n",
      "theta [ 0.1  0.1  0.1]\n",
      "theta [ 0.1  0.1  0.1]\n",
      "theta [ 0.1  0.1  0.1]\n",
      "theta [ 0.1  0.1  0.1]\n",
      "theta [ 0.1  0.1  0.1]\n",
      "theta [ 0.1  0.1  0.1]\n",
      "theta [ 0.1  0.1  0.1]\n",
      "theta [ 0.1  0.1  0.1]\n",
      "theta [ 0.1  0.1  0.1]\n",
      "theta [ 0.1  0.1  0.1]\n",
      "theta [ 0.1  0.1  0.1]\n",
      "theta [ 0.1  0.1  0.1]\n",
      "theta [ 0.1  0.1  0.1]\n",
      "theta [ 0.1  0.1  0.1]\n",
      "theta [ 0.1  0.1  0.1]\n",
      "theta [ 0.1  0.1  0.1]\n",
      "theta [ 0.1  0.1  0.1]\n",
      "theta [ 0.1  0.1  0.1]\n",
      "theta [ 0.1  0.1  0.1]\n",
      "theta [ 0.1  0.1  0.1]\n",
      "theta [ 0.1  0.1  0.1]\n",
      "theta [ 0.1  0.1  0.1]\n",
      "theta [ 0.1  0.1  0.1]\n",
      "theta [ 0.1  0.1  0.1]\n",
      "theta [ 0.1  0.1  0.1]\n",
      "theta [ 0.1  0.1  0.1]\n",
      "theta [ 0.08850534 -0.90457375  0.2039204 ]\n",
      "theta [ 0.09478921 -0.35539573  0.14710944]\n",
      "theta [ 0.09801756 -0.07325462  0.11792272]\n",
      "theta [ 0.0992197   0.03180604  0.10705448]\n",
      "theta [ 0.0996945   0.0733008   0.10276196]\n",
      "theta [ 0.09988026  0.08953507  0.10108257]\n",
      "theta [ 0.09995307  0.09589868  0.10042427]\n",
      "theta [ 0.09998161  0.09839257  0.10016628]\n",
      "theta [ 0.09999279  0.09937     0.10006517]\n",
      "theta [ 0.09999717  0.09975308  0.10002554]\n",
      "theta [ 0.09999889  0.09990322  0.10001001]\n",
      "theta [ 0.09999957  0.09996207  0.10000392]\n",
      "Final Theta Value:\n",
      "[ 0.09999957  0.09996207  0.10000392]\n"
     ]
    }
   ],
   "source": [
    "theta2 = 0\n",
    "\n",
    "results = scipy.optimize.fmin_cg(logPost, theta, fprime = glogPost, args = (x,y),gtol = 1e-4, maxiter=6, disp=False, full_output = 1)\n",
    "print(\"Final Theta Value:\")\n",
    "print(theta2)"
   ]
  },
  {
   "cell_type": "markdown",
   "metadata": {},
   "source": [
    "Theta has:  var-f, length, var_n"
   ]
  },
  {
   "cell_type": "code",
   "execution_count": 43,
   "metadata": {
    "collapsed": false
   },
   "outputs": [
    {
     "data": {
      "text/plain": [
       "(120, 1)"
      ]
     },
     "execution_count": 43,
     "metadata": {},
     "output_type": "execute_result"
    }
   ],
   "source": [
    "mean.shape"
   ]
  },
  {
   "cell_type": "code",
   "execution_count": 44,
   "metadata": {
    "collapsed": false
   },
   "outputs": [
    {
     "data": {
      "text/plain": [
       "(120, 120)"
      ]
     },
     "execution_count": 44,
     "metadata": {},
     "output_type": "execute_result"
    }
   ],
   "source": [
    "f_var.shape"
   ]
  },
  {
   "cell_type": "code",
   "execution_count": null,
   "metadata": {
    "collapsed": true
   },
   "outputs": [],
   "source": []
  },
  {
   "cell_type": "code",
   "execution_count": null,
   "metadata": {
    "collapsed": true
   },
   "outputs": [],
   "source": []
  },
  {
   "cell_type": "code",
   "execution_count": null,
   "metadata": {
    "collapsed": true
   },
   "outputs": [],
   "source": []
  },
  {
   "cell_type": "code",
   "execution_count": null,
   "metadata": {
    "collapsed": true
   },
   "outputs": [],
   "source": []
  },
  {
   "cell_type": "code",
   "execution_count": null,
   "metadata": {
    "collapsed": true
   },
   "outputs": [],
   "source": []
  },
  {
   "cell_type": "code",
   "execution_count": null,
   "metadata": {
    "collapsed": false
   },
   "outputs": [],
   "source": []
  },
  {
   "cell_type": "code",
   "execution_count": null,
   "metadata": {
    "collapsed": true
   },
   "outputs": [],
   "source": []
  },
  {
   "cell_type": "code",
   "execution_count": null,
   "metadata": {
    "collapsed": false
   },
   "outputs": [],
   "source": []
  },
  {
   "cell_type": "code",
   "execution_count": 67,
   "metadata": {
    "collapsed": true
   },
   "outputs": [],
   "source": [
    "def kernel(x1, x2, theta, noise = 0):\n",
    "    theta = np.squeeze(theta)\n",
    "\n",
    "    \n",
    "    var_f = theta[0]\n",
    "    length = theta[1]\n",
    "    var_n = theta[2]\n",
    "    sh = x1.shape[0]\n",
    "    x1 = x1.T\n",
    "    x2 = x2.T\n",
    "    x1 = np.tile(x1, (x1.shape[0], 1))\n",
    "    x2 = np.tile(x2, (x2.shape[0],1)).T\n",
    "#     print(x1.shape)\n",
    "#     print(x2.shape)\n",
    "    \n",
    "#     k = (math.exp(var_f))*np.exp(-0.5*(np.exp(length))*((x-xstar)**2)) + noise*(math.exp(var_n))* (np.eye(x.shape[0]))\n",
    "    k = np.exp(var_f)*np.exp(-0.5*np.exp(length)*((x1-x2)**2))\n",
    "#     print(k.shape)\n",
    "    n = noise*(np.exp(var_n))* np.eye(sh)\n",
    "#     print(n.shape)\n",
    "    K = np.add(k,n)\n",
    "    return K"
   ]
  },
  {
   "cell_type": "code",
   "execution_count": 90,
   "metadata": {
    "collapsed": false
   },
   "outputs": [
    {
     "data": {
      "text/plain": [
       "0.63598171946298909"
      ]
     },
     "execution_count": 90,
     "metadata": {},
     "output_type": "execute_result"
    }
   ],
   "source": [
    "m = kernel(np.matrix(2),np.matrix(3), theta)\n",
    "mm = m[0,0]\n",
    "mm"
   ]
  },
  {
   "cell_type": "code",
   "execution_count": 121,
   "metadata": {
    "collapsed": false
   },
   "outputs": [],
   "source": [
    "def mean_var(x, y, theta, xstar, K):\n",
    "    Kstars= kernel(np.matrix(xstar), np.matrix(xstar), theta, noise = 0)[0,0] # x1 = x[:60], x2 = x[:60]\n",
    "    Kstar= np.array([kernel(np.matrix(x.ix[i]), np.matrix(xstar), theta, noise = 0)[0,0] for i in range(len(x))]) # x1 = x[:60], x2 = x[:60]\n",
    "    L = np.linalg.cholesky(K)\n",
    "    alpha = np.linalg.solve(L.transpose(), np.linalg.solve(L,y[:n]))\n",
    "    fbarstar = np.dot(Kstar.transpose(), alpha)\n",
    "    mean = fbarstar[0]\n",
    "    #print(mean)\n",
    "    #mean.shape\n",
    "    v = np.linalg.solve(L, Kstar)\n",
    "    f_var = Kstars-np.dot(v.T, v)\n",
    "    #print(f_var)\n",
    "    #f_var.shape\n",
    "    return mean, f_var"
   ]
  },
  {
   "cell_type": "code",
   "execution_count": 122,
   "metadata": {
    "collapsed": false
   },
   "outputs": [
    {
     "data": {
      "text/plain": [
       "(0.034125827197501908, 1.1020874262748548)"
      ]
     },
     "execution_count": 122,
     "metadata": {},
     "output_type": "execute_result"
    }
   ],
   "source": [
    "mean_var(x, y, theta, 3, K)"
   ]
  },
  {
   "cell_type": "code",
   "execution_count": 136,
   "metadata": {
    "collapsed": false
   },
   "outputs": [],
   "source": [
    "x_pred = np.linspace(np.min(x), np.max(x), 500)\n",
    "#x_pred\n"
   ]
  },
  {
   "cell_type": "code",
   "execution_count": 140,
   "metadata": {
    "collapsed": false
   },
   "outputs": [
    {
     "data": {
      "text/plain": [
       "(2, 500)"
      ]
     },
     "execution_count": 140,
     "metadata": {},
     "output_type": "execute_result"
    }
   ],
   "source": [
    "mv = np.array([mean_var(x, y, theta2, p, K) for p in x_pred]).squeeze().transpose()\n",
    "mv"
   ]
  },
  {
   "cell_type": "code",
   "execution_count": 142,
   "metadata": {
    "collapsed": false
   },
   "outputs": [],
   "source": [
    "mean = mv[0]\n",
    "var = mv[1]\n"
   ]
  },
  {
   "cell_type": "code",
   "execution_count": 143,
   "metadata": {
    "collapsed": false
   },
   "outputs": [
    {
     "data": {
      "image/png": "[encoded data removed]",
      "text/plain": [
       "<matplotlib.figure.Figure at 0x10b5bf4a8>"
      ]
     },
     "metadata": {},
     "output_type": "display_data"
    }
   ],
   "source": [
    "plt.errorbar(x_pred, mean, var)\n",
    "plt.plot(x,y, \"y-\")\n",
    "plt.xlabel(\"Finger_x\")\n",
    "plt.ylabel(\"Target_X\")\n",
    "plt.suptitle(\"Posterior Distribution\")\n",
    "plt.savefig(\"Post2.png\")\n",
    "plt.show()"
   ]
  },
  {
   "cell_type": "code",
   "execution_count": null,
   "metadata": {
    "collapsed": true
   },
   "outputs": [],
   "source": []
  }
 ],
 "metadata": {
  "kernelspec": {
   "display_name": "Python 3",
   "language": "python",
   "name": "python3"
  },
  "language_info": {
   "codemirror_mode": {
    "name": "ipython",
    "version": 3
   },
   "file_extension": ".py",
   "mimetype": "text/x-python",
   "name": "python",
   "nbconvert_exporter": "python",
   "pygments_lexer": "ipython3",
   "version": "3.5.1"
  }
 },
 "nbformat": 4,
 "nbformat_minor": 2
}
